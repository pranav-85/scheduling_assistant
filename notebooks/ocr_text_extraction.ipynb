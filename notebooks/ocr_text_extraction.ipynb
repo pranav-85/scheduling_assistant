{
 "cells": [
  {
   "cell_type": "markdown",
   "id": "e0b4d12e",
   "metadata": {},
   "source": [
    "## Pytesseract"
   ]
  },
  {
   "cell_type": "code",
   "execution_count": 1,
   "id": "1e61d80a",
   "metadata": {},
   "outputs": [],
   "source": [
    "import pytesseract\n",
    "from PIL import Image"
   ]
  },
  {
   "cell_type": "code",
   "execution_count": 4,
   "id": "ee71fd33",
   "metadata": {},
   "outputs": [
    {
     "name": "stdout",
     "output_type": "stream",
     "text": [
      "M Gmail\n",
      "\n",
      "@ Compose\n",
      "Inbox\n",
      "\n",
      "yy Starred\n",
      "Snoozed\n",
      "& Sent\n",
      "\n",
      "D Drafts\n",
      "\n",
      "vy More\n",
      "Labels\n",
      "\n",
      "® Form Responses\n",
      "Hostel\n",
      "\n",
      "® Lost and Found\n",
      "\n",
      "® Not Required\n",
      "\n",
      "© Placement Cell IIIT...\n",
      "\n",
      "Q Search mail\n",
      "\n",
      "os\n",
      "\n",
      "@rctver @ Ev.)\n",
      "6 0° @ 4 © G ® 3D: 30f6759 << > Ey\n",
      "Appointment Confirmation with Dr. Meera Joshi_ !nbox @ @\n",
      "©S22B1027 MADUPU SAI PRANAV <cs221027@iitdm.ac.in> 4:45PM (6 minutes ago) yy ¢\n",
      "tome ~\n",
      "\n",
      "Dear Ms. Priya Rathi,\n",
      "\n",
      "We are pleased to confirm your consultation with Dr. Meera Joshi (Dermatologist) scheduled for tomorrow afternoon at Fortis Hospital, New\n",
      "Delhi.\n",
      "\n",
      "Please ensure you carry any previous prescriptions or test results during your visit. If you are unable to attend, kindly inform us at least 24 hours\n",
      "in advance.\n",
      "\n",
      "Warm regards,\n",
      "\n",
      "Fortis Hospital — Patient Care Desk\n",
      "\n",
      "fi. 7 \\ fe op\n",
      "(© Reply )( @ Forward )\n",
      "NX JN 7\n",
      "\n",
      "@e a\n",
      "\n"
     ]
    }
   ],
   "source": [
    "pytesseract.pytesseract.tesseract_cmd = r\"C:\\Program Files\\Tesseract-OCR\\tesseract.exe\"\n",
    "\n",
    "text = pytesseract.image_to_string(Image.open(\"../data/mail2.png\"))\n",
    "print(text)"
   ]
  },
  {
   "cell_type": "code",
   "execution_count": 5,
   "id": "30a7fb64",
   "metadata": {},
   "outputs": [
    {
     "name": "stdout",
     "output_type": "stream",
     "text": [
      "M Gmail\n",
      "@ Compose\n",
      "Inbox\n",
      "yy Starred\n",
      "Snoozed\n",
      "Sent\n",
      "D Drafts\n",
      "vy More\n",
      "Labels\n",
      "Form Responses\n",
      "Hostel\n",
      "Lost and Found\n",
      "Not Required\n",
      "Placement Cell IIIT...\n",
      "Q Search mail\n",
      "os\n",
      "@rctver @ Ev.\n",
      "6 0 @ 4  G  3D 30f6759   Ey\n",
      "Appointment Confirmation with Dr. Meera Joshi !nbox @ @\n",
      "S22B1027 MADUPU SAI PRANAV cs221027@iitdm.ac.in 445PM 6 minutes ago yy\n",
      "tome\n",
      "Dear Ms. Priya Rathi,\n",
      "We are pleased to confirm your consultation with Dr. Meera Joshi Dermatologist scheduled for tomorrow afternoon at Fortis Hospital, New\n",
      "Delhi.\n",
      "Please ensure you carry any previous prescriptions or test results during your visit. If you are unable to attend, kindly inform us at least 24 hours\n",
      "in advance.\n",
      "Warm regards,\n",
      "Fortis Hospital  Patient Care Desk\n",
      "fi. 7  fe op\n",
      "Reply  @ Forward\n",
      "NX JN 7\n",
      "@e a\n"
     ]
    }
   ],
   "source": [
    "import re\n",
    "\n",
    "# Keep only letters, numbers, and basic punctuation\n",
    "clean_text = re.sub(r'[^A-Za-z0-9,.!?@#\\s]', '', text)\n",
    "\n",
    "# Remove extra whitespaces or blank lines\n",
    "clean_text = \"\\n\".join([line.strip() for line in clean_text.splitlines() if line.strip()])\n",
    "\n",
    "print(clean_text)"
   ]
  },
  {
   "cell_type": "code",
   "execution_count": 7,
   "id": "f40dcaae",
   "metadata": {},
   "outputs": [
    {
     "name": "stdout",
     "output_type": "stream",
     "text": [
      "Dr. Joshi (Cardiologist) -\n",
      "Appointment @ 1:30 PM next\n",
      "saturday\n",
      "\n"
     ]
    }
   ],
   "source": [
    "text = pytesseract.image_to_string(Image.open(\"../data/note1.png\"))\n",
    "print(text)"
   ]
  },
  {
   "cell_type": "code",
   "execution_count": 10,
   "id": "6a80f3bd",
   "metadata": {},
   "outputs": [
    {
     "name": "stdout",
     "output_type": "stream",
     "text": [
      "Dentist Bppet\n",
      "\n",
      "‘Temet\n",
      "\n",
      "\n"
     ]
    }
   ],
   "source": [
    "text = pytesseract.image_to_string(Image.open(\"../data/written_note2.jpeg\"))\n",
    "print(text)"
   ]
  },
  {
   "cell_type": "markdown",
   "id": "50d79942",
   "metadata": {},
   "source": [
    "## TrOCR - HuggingFace"
   ]
  },
  {
   "cell_type": "code",
   "execution_count": 4,
   "id": "41c42b2f",
   "metadata": {},
   "outputs": [],
   "source": [
    "# ! pip install transformers\n",
    "# ! pip install -q torch torchvision --index-url https://download.pytorch.org/whl/cu128\n",
    "# ! pip install sentencepiece"
   ]
  },
  {
   "cell_type": "code",
   "execution_count": 4,
   "id": "cf1f5844",
   "metadata": {},
   "outputs": [
    {
     "name": "stderr",
     "output_type": "stream",
     "text": [
      "c:\\Users\\msaip\\Projects\\appointment_scheduler\\.venv\\Lib\\site-packages\\huggingface_hub\\file_download.py:143: UserWarning: `huggingface_hub` cache-system uses symlinks by default to efficiently store duplicated files but your machine does not support them in C:\\Users\\msaip\\.cache\\huggingface\\hub\\models--microsoft--trocr-base-handwritten. Caching files will still work but in a degraded version that might require more space on your disk. This warning can be disabled by setting the `HF_HUB_DISABLE_SYMLINKS_WARNING` environment variable. For more details, see https://huggingface.co/docs/huggingface_hub/how-to-cache#limitations.\n",
      "To support symlinks on Windows, you either need to activate Developer Mode or to run Python as an administrator. In order to activate developer mode, see this article: https://docs.microsoft.com/en-us/windows/apps/get-started/enable-your-device-for-development\n",
      "  warnings.warn(message)\n",
      "Xet Storage is enabled for this repo, but the 'hf_xet' package is not installed. Falling back to regular HTTP download. For better performance, install the package with: `pip install huggingface_hub[hf_xet]` or `pip install hf_xet`\n",
      "Some weights of VisionEncoderDecoderModel were not initialized from the model checkpoint at microsoft/trocr-base-handwritten and are newly initialized: ['encoder.pooler.dense.bias', 'encoder.pooler.dense.weight']\n",
      "You should probably TRAIN this model on a down-stream task to be able to use it for predictions and inference.\n"
     ]
    }
   ],
   "source": [
    "from transformers import TrOCRProcessor, VisionEncoderDecoderModel\n",
    "from PIL import Image\n",
    "import requests\n",
    "import torch\n",
    "\n",
    "# Load processor (handles image → tensor preprocessing)\n",
    "processor = TrOCRProcessor.from_pretrained('microsoft/trocr-base-handwritten', use_fast=False)\n",
    "model = VisionEncoderDecoderModel.from_pretrained('microsoft/trocr-base-handwritten')\n"
   ]
  },
  {
   "cell_type": "code",
   "execution_count": 17,
   "id": "8874d71a",
   "metadata": {},
   "outputs": [
    {
     "name": "stdout",
     "output_type": "stream",
     "text": [
      "Extracted Text: 2 Dentist appointment at 11 30mm. Today\n"
     ]
    }
   ],
   "source": [
    "from PIL import Image, ImageEnhance, ImageOps\n",
    "\n",
    "image = Image.open(\"../data/written_note3.jpeg\").convert(\"RGB\")\n",
    "image = ImageOps.exif_transpose(image) \n",
    "\n",
    "# Enhance contrast\n",
    "gray = image.convert(\"L\")\n",
    "enhancer = ImageEnhance.Contrast(gray)\n",
    "image = enhancer.enhance(2.0).convert(\"RGB\")\n",
    "\n",
    "# Prepare inputs\n",
    "pixel_values = processor(images=image, return_tensors=\"pt\").pixel_values\n",
    "\n",
    "# Generate text with beam search\n",
    "generated_ids = model.generate(pixel_values, num_beams=4, max_length=128, early_stopping=True)\n",
    "generated_text = processor.batch_decode(generated_ids, skip_special_tokens=True)[0]\n",
    "\n",
    "print(\"Extracted Text:\", generated_text)\n"
   ]
  },
  {
   "cell_type": "markdown",
   "id": "427f0ed7",
   "metadata": {},
   "source": [
    "## Mistral AI OCR"
   ]
  },
  {
   "cell_type": "code",
   "execution_count": 19,
   "id": "18d1db3c",
   "metadata": {},
   "outputs": [],
   "source": [
    "# ! pip install mistralai"
   ]
  },
  {
   "cell_type": "code",
   "execution_count": 20,
   "id": "5cd6cbba",
   "metadata": {},
   "outputs": [],
   "source": [
    "from mistralai import Mistral\n",
    "\n",
    "api_key = \"Wcn5vM6dh1F7gaKl4ExeBqmfTKTotDBB\"\n",
    "client = Mistral(api_key=api_key)"
   ]
  },
  {
   "cell_type": "code",
   "execution_count": 21,
   "id": "d9d05b7e",
   "metadata": {},
   "outputs": [],
   "source": [
    "import base64, mimetypes\n",
    "\n",
    "def load_image(image_path):\n",
    "    mime_type, _ = mimetypes.guess_type(image_path)\n",
    "    with open(image_path, \"rb\") as image_file:\n",
    "        image_data = image_file.read()\n",
    "    base64_encoded = base64.b64encode(image_data).decode('utf-8')\n",
    "    data_url = f\"data:{mime_type};base64,{base64_encoded}\"\n",
    "    return data_url"
   ]
  },
  {
   "cell_type": "code",
   "execution_count": 35,
   "id": "4728883d",
   "metadata": {},
   "outputs": [],
   "source": [
    "ocr_response = client.ocr.process(\n",
    "    model=\"mistral-ocr-latest\",\n",
    "    document={\n",
    "        \"type\": \"image_url\",\n",
    "        \"image_url\": load_image(\"../data/mail2.png\")\n",
    "    }\n",
    ")"
   ]
  },
  {
   "cell_type": "code",
   "execution_count": 32,
   "id": "0488a566",
   "metadata": {},
   "outputs": [
    {
     "data": {
      "text/plain": [
       "OCRResponse(pages=[OCRPageObject(index=0, markdown='# Dentist Appointment\\n\\nTomorrow at 11:30 AM.', images=[], dimensions=OCRPageDimensions(dpi=200, height=1600, width=1200))], model='mistral-ocr-2505-completion', usage_info=OCRUsageInfo(pages_processed=1, doc_size_bytes=39016), document_annotation=None)"
      ]
     },
     "execution_count": 32,
     "metadata": {},
     "output_type": "execute_result"
    }
   ],
   "source": [
    "ocr_response"
   ]
  },
  {
   "cell_type": "code",
   "execution_count": 36,
   "id": "ce37171e",
   "metadata": {},
   "outputs": [
    {
     "name": "stdout",
     "output_type": "stream",
     "text": [
      "|  ☐ |  |  |  |  |  |  |  |  |  |  |  |  |  |  |  |  |  |  |  |  |  |  |  |  |  |  |  |  |  |  |  |  |  |  |  |  |  |  |  |  |   |\n",
      "| --- | --- | --- | --- | --- | --- | --- | --- | --- | --- | --- | --- | --- | --- | --- | --- | --- | --- | --- | --- | --- | --- | --- | --- | --- | --- | --- | --- | --- | --- | --- | --- | --- | --- | --- | --- | --- | --- | --- | --- |\n",
      "|  Gmail |  |  |  |  |  |  |  |  |  |  |  |  |  |  |  |  |  |  |  |  |  |  |  |  |  |  |  |  |  |  |  |  |  |  |  |  |  |  |  |   |\n",
      "|  📸 |  |  |  |  |  |  |  |  |  |  |  |  |  |  |  |  |  |  |  |  |  |  |  |  |  |  |  |  |  |  |  |  |  |  |  |  |  |  |   |\n",
      "|  Compose |  |  |  |  |  |  |  |  |  |  |  |  |  |  |  |  |  |  |  |  |  |  |  |  |  |  |  |  |  |  |  |  |  |  |  |  |  |  |   |\n",
      "|  Mail |  |  |  |  |  |  |  |  |  |  |  |  |  |  |  |  |  |  |  |  |  |  |  |  |  |  |  |  |  |  |  |  |  |  |  |  |  |  |   |\n",
      "|  📸 |  |  |  |  |  |  |  |  |  |  |  |  |  |  |  |  |  |  |  |  |  |  |  |  |  |  |  |  |  |  |  |  |  |  |  |  |  |  |   |\n",
      "|  Inbox |  |  |  |  |  |  |  |  |  |  |  |  |  |  |  |  |  |  |  |  |  |  |  |  |  |  |  |  |  |  |  |  |  |  |  |  |  |  |   |\n",
      "|  Chat |  |  |  |  |  |  |  |  |  |  |  |  |  |  |  |  |  |  |  |  |  |  |  |  |  |  |  |  |  |  |  |  |  |  |  |  |  |  |  |   |\n",
      "|  Meet |  |  |  |  |  |  |  |  |  |  |  |  |  |  |  |  |  |  |  |  |  |  |  |  |  |  |  |  |  |  |  |  |  |  |  |  |  |  |  |   |\n",
      "|  📸 |  |  |  |  |  |  |  |  |  |  |  |  |  |  |  |  |  |  |  |  |  |  |  |  |  |  |  |  |  |  |  |  |  |  |  |  |  |  |  |   |\n",
      "|  Drafts |  |  |  |  |  |  |  |  |  |  |  |  |  |  |  |  |  |  |  |  |  |  |  |  |  |  |  |  |  |  |  |  |  |  |  |  |  |  |  |   |\n",
      "|  ➢ |  |  |  |  |  |  |  |  |  |  |  |  |  |  |  |  |  |  |  |  |  |  |  |  |  |  |  |  |  |  |  |  |  |  |  |  |  |  |  |  |   |\n",
      "|  |   |   |   |   |   |   |   |   |   |   |   |   |   |   |   |   |   |   |   |   |   |   |   |   |   |   |   |   |   |   |   |   |   |   |   |   |   |   |   |\n",
      "|  Labels |  |  |  |  |  |  |  |  |  |  |  |  |  |  |  |  |  |  |  |  |  |  |  |  |  |  |  |  |  |  |  |  |  |  |  |  |  |  |   |\n",
      "|  |   |   |   |   |   |   |   |   |   |   |   |   |   |   |   |   |   |   |   |   |   |   |   |   |   |   |   |   |   |   |   |   |   |   |   |   |   |   |\n",
      "|  |   |   |   |   |   |   |   |   |   |   |   |   |   |   |   |   |   |   |   |   |   |   |   |   |   |   |   |   |   |   |   |   |   |   |   |   |   |   |\n",
      "|  Form Responses |  |  |  |  |  |  |  |  |  |  |  |  |  |  |  |  |  |  |  |  |  |  |  |  |  |  |  |  |  |  |  |  |  |  |  |  |  |   |\n",
      "|  Hostel |  |  |  |  |  |  |  |  |  |  |  |  |  |  |  |  |  |  |  |  |  |  |  |  |  |  |  |  |  |  |  |  |  |  |  |  |  |  |   |\n",
      "|  Lost and Found |  |  |  |  |  |  |  |  |  |  |  |  |  |  |  |  |  |  |  |  |  |  |  |  |  |  |  |  |  |  |  |  |  |  |  |  |  |  |   |\n",
      "|  Not Required |  |  |  |  |  |  |  |  |  |  |  |  |  |  |  |  |  |  |  |  |  |  |  |  |  |  |  |  |  |  |  |  |  |  |  |  |  |  |   |\n",
      "|  Placement Cell IIIT... |  |  |  |  |  |  |  |  |  |  |  |  |  |  |  |  |  |  |  |  |  |  |  |  |  |  |  |  |  |  |  |  |  |  |  |  |  |  |  |   |\n",
      "\n",
      "# Appointment Confirmation with Dr. Meera Joshi Inbox\n",
      "\n",
      "**CS22B1027 MADUPU SAI PRANAV** <cs22b1027@iitdm.ac.in> to me\n",
      "\n",
      "Dear Ms. Priya Rathi,\n",
      "\n",
      "We are pleased to confirm your consultation with Dr. Meera Joshi (Dermatologist) scheduled for tomorrow afternoon at Fortis Hospital, New Delhi.\n",
      "\n",
      "Please ensure you carry any previous prescriptions or test results during your visit. If you are unable to attend, kindly inform us at least 24 hours in advance.\n",
      "\n",
      "Warm regards,\n",
      "\n",
      "Fortis Hospital – Patient Care Desk\n",
      "\n",
      "Reply Forward\n"
     ]
    }
   ],
   "source": [
    "for page in ocr_response.pages:\n",
    "    print(page.markdown)"
   ]
  },
  {
   "cell_type": "code",
   "execution_count": null,
   "id": "00c68e42",
   "metadata": {},
   "outputs": [],
   "source": []
  }
 ],
 "metadata": {
  "kernelspec": {
   "display_name": ".venv",
   "language": "python",
   "name": "python3"
  },
  "language_info": {
   "codemirror_mode": {
    "name": "ipython",
    "version": 3
   },
   "file_extension": ".py",
   "mimetype": "text/x-python",
   "name": "python",
   "nbconvert_exporter": "python",
   "pygments_lexer": "ipython3",
   "version": "3.13.1"
  }
 },
 "nbformat": 4,
 "nbformat_minor": 5
}
